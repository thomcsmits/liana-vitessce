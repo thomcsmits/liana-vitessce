{
 "cells": [
  {
   "cell_type": "code",
   "execution_count": 1,
   "id": "cc673402",
   "metadata": {},
   "outputs": [],
   "source": [
    "# !pip install liana decoupler==1.8.0 kneed omnipath\n",
    "# !pip install vitessce anywidget starlette uvicorn"
   ]
  },
  {
   "cell_type": "code",
   "execution_count": 2,
   "id": "1563152b",
   "metadata": {},
   "outputs": [],
   "source": [
    "from os.path import isdir\n",
    "import scanpy as sc\n",
    "\n",
    "from vitessce import (\n",
    "    VitessceConfig,\n",
    "    Component as cm,\n",
    "    AnnDataWrapper,\n",
    ")\n",
    "from vitessce.data_utils import (\n",
    "    optimize_adata,\n",
    "    VAR_CHUNK_SIZE,\n",
    ")"
   ]
  },
  {
   "cell_type": "markdown",
   "id": "f9736e94",
   "metadata": {},
   "source": [
    "Load in data as in [bivariate.ipynb](https://github.com/saezlab/liana-py/blob/main/docs/source/notebooks/bivariate.ipynb)."
   ]
  },
  {
   "cell_type": "code",
   "execution_count": 3,
   "id": "6330025d",
   "metadata": {},
   "outputs": [],
   "source": [
    "adata_path = \"data/kuppe_heart19.h5ad\"\n",
    "\n",
    "adata = sc.read(adata_path, backup_url='https://figshare.com/ndownloader/files/41501073?private_link=4744950f8768d5c8f68c')\n",
    "adata.layers['counts'] = adata.X.copy()\n",
    "sc.pp.normalize_total(adata, target_sum=1e4)\n",
    "sc.pp.log1p(adata)"
   ]
  },
  {
   "cell_type": "markdown",
   "id": "e2096ad2",
   "metadata": {},
   "source": [
    "Write to zarr."
   ]
  },
  {
   "cell_type": "code",
   "execution_count": 4,
   "id": "b8b1339d",
   "metadata": {},
   "outputs": [],
   "source": [
    "zarr_filepath = \"data/kuppe_heart19.processed.zarr\"\n",
    "\n",
    "if not isdir(zarr_filepath):\n",
    "    adata = optimize_adata(\n",
    "        adata,\n",
    "        obs_cols=[\"celltype_niche\"],\n",
    "        obsm_keys=[\"spatial\"],\n",
    "        var_cols=[\"log1p_total_counts\"],\n",
    "        optimize_X=True,\n",
    "    )\n",
    "    adata.write_zarr(zarr_filepath, chunks=[adata.shape[0], VAR_CHUNK_SIZE])"
   ]
  },
  {
   "cell_type": "code",
   "execution_count": 5,
   "id": "57c5d655",
   "metadata": {},
   "outputs": [
    {
     "data": {
      "text/plain": [
       "AnnData object with n_obs × n_vars = 4113 × 17703\n",
       "    obs: 'in_tissue', 'array_row', 'array_col', 'sample', 'n_genes_by_counts', 'log1p_n_genes_by_counts', 'total_counts', 'log1p_total_counts', 'pct_counts_in_top_50_genes', 'pct_counts_in_top_100_genes', 'pct_counts_in_top_200_genes', 'pct_counts_in_top_500_genes', 'mt_frac', 'celltype_niche', 'molecular_niche'\n",
       "    var: 'gene_ids', 'feature_types', 'genome', 'SYMBOL', 'n_cells_by_counts', 'mean_counts', 'log1p_mean_counts', 'pct_dropout_by_counts', 'total_counts', 'log1p_total_counts', 'mt', 'rps', 'mrp', 'rpl', 'duplicated'\n",
       "    uns: 'spatial', 'log1p'\n",
       "    obsm: 'compositions', 'mt', 'spatial'\n",
       "    layers: 'counts'"
      ]
     },
     "execution_count": 5,
     "metadata": {},
     "output_type": "execute_result"
    }
   ],
   "source": [
    "adata"
   ]
  },
  {
   "cell_type": "markdown",
   "id": "7addf405",
   "metadata": {},
   "source": [
    "Set up Vitessce config. Default gene view shows all genes."
   ]
  },
  {
   "cell_type": "code",
   "execution_count": 6,
   "id": "881fb8be",
   "metadata": {},
   "outputs": [
    {
     "data": {
      "application/vnd.jupyter.widget-view+json": {
       "model_id": "283ddda160b14fb18ba30309fab40541",
       "version_major": 2,
       "version_minor": 1
      },
      "text/plain": [
       "VitessceWidget(config={'version': '1.0.15', 'name': 'Kuppe Heart', 'description': 'Heart dataset from Kuppe et…"
      ]
     },
     "execution_count": 6,
     "metadata": {},
     "output_type": "execute_result"
    }
   ],
   "source": [
    "vc = VitessceConfig(schema_version=\"1.0.15\", name='Kuppe Heart', description='Heart dataset from Kuppe et al.')\n",
    "dataset = vc.add_dataset(name='Heart').add_object(AnnDataWrapper(\n",
    "        adata_path=zarr_filepath,\n",
    "        obs_embedding_paths=[\"obsm/spatial\"],\n",
    "        obs_embedding_names=[\"Spatial\"],\n",
    "        obs_set_paths=[\"obs/celltype_niche\"],\n",
    "        obs_set_names=[\"Cell Type Niche\"],\n",
    "        obs_feature_matrix_path=\"X\",\n",
    "))\n",
    "\n",
    "# Set default spot radius\n",
    "[spatial_radius] = vc.add_coordination(\"embeddingObsRadius\")\n",
    "[spatial_radius_mode] = vc.add_coordination(\"embeddingObsRadiusMode\")\n",
    "spatial_radius.set_value(3.5)\n",
    "spatial_radius_mode.set_value(\"manual\")\n",
    "\n",
    "# Add views\n",
    "scatterplot = vc.add_view(cm.SCATTERPLOT, dataset=dataset, mapping=\"Spatial\")\n",
    "scatterplot.use_coordination(spatial_radius).use_coordination(spatial_radius_mode)\n",
    "cell_sets = vc.add_view(cm.OBS_SETS, dataset=dataset)\n",
    "genes = vc.add_view(cm.FEATURE_LIST, dataset=dataset)\n",
    "vc.layout(scatterplot | (cell_sets / genes))\n",
    "\n",
    "vc.widget()"
   ]
  },
  {
   "cell_type": "markdown",
   "id": "3b815fe5",
   "metadata": {},
   "source": [
    "If wanting to filter by genes, a coordination layer can be added."
   ]
  },
  {
   "cell_type": "code",
   "execution_count": 7,
   "id": "57d4a6d7",
   "metadata": {},
   "outputs": [
    {
     "data": {
      "application/vnd.jupyter.widget-view+json": {
       "model_id": "7f512b00729b418ebac0b286a3ba674d",
       "version_major": 2,
       "version_minor": 1
      },
      "text/plain": [
       "VitessceWidget(config={'version': '1.0.15', 'name': 'Kuppe Heart', 'description': 'Heart dataset from Kuppe et…"
      ]
     },
     "execution_count": 7,
     "metadata": {},
     "output_type": "execute_result"
    }
   ],
   "source": [
    "vc = VitessceConfig(schema_version=\"1.0.15\", name='Kuppe Heart', description='Heart dataset from Kuppe et al.')\n",
    "dataset = vc.add_dataset(name='Heart').add_object(AnnDataWrapper(\n",
    "        adata_path=zarr_filepath,\n",
    "        obs_embedding_paths=[\"obsm/spatial\"],\n",
    "        obs_embedding_names=[\"Spatial\"],\n",
    "        obs_set_paths=[\"obs/celltype_niche\"],\n",
    "        obs_set_names=[\"Cell Type Niche\"],\n",
    "        obs_feature_matrix_path=\"X\",\n",
    "))\n",
    "\n",
    "# Set default spot radius\n",
    "[spatial_radius] = vc.add_coordination(\"embeddingObsRadius\")\n",
    "[spatial_radius_mode] = vc.add_coordination(\"embeddingObsRadiusMode\")\n",
    "spatial_radius.set_value(3.5)\n",
    "spatial_radius_mode.set_value(\"manual\")\n",
    "\n",
    "# Set genes to show\n",
    "[featureFilter] = vc.add_coordination(\"featureFilter\")\n",
    "featureFilter.set_value(['VTN', 'ITGAV', 'ITGB5', 'TIMP1', 'CD63'])\n",
    "\n",
    "# Add views\n",
    "scatterplot = vc.add_view(cm.SCATTERPLOT, dataset=dataset, mapping=\"Spatial\")\n",
    "scatterplot.use_coordination(spatial_radius).use_coordination(spatial_radius_mode)\n",
    "cell_sets = vc.add_view(cm.OBS_SETS, dataset=dataset)\n",
    "genes = vc.add_view(cm.FEATURE_LIST, dataset=dataset).use_coordination(featureFilter)\n",
    "vc.layout(scatterplot | (cell_sets / genes))\n",
    "\n",
    "vc.widget()"
   ]
  }
 ],
 "metadata": {
  "kernelspec": {
   "display_name": ".venv",
   "language": "python",
   "name": "python3"
  },
  "language_info": {
   "codemirror_mode": {
    "name": "ipython",
    "version": 3
   },
   "file_extension": ".py",
   "mimetype": "text/x-python",
   "name": "python",
   "nbconvert_exporter": "python",
   "pygments_lexer": "ipython3",
   "version": "3.11.4"
  }
 },
 "nbformat": 4,
 "nbformat_minor": 5
}
